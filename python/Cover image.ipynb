{
 "cells": [
  {
   "cell_type": "code",
   "execution_count": 1,
   "id": "81c37bb6",
   "metadata": {},
   "outputs": [],
   "source": [
    "import numpy as np\n",
    "import matplotlib.pyplot as plt\n",
    "import cv2"
   ]
  },
  {
   "cell_type": "code",
   "execution_count": 2,
   "id": "61dad517",
   "metadata": {},
   "outputs": [],
   "source": [
    "def rotate(p, pitch, roll, yaw):\n",
    "    pitch, roll, yaw = np.radians(pitch), np.radians(roll), np.radians(yaw)\n",
    "    \n",
    "    cosa, sina = np.cos(yaw), np.sin(yaw)\n",
    "    cosb, sinb = np.cos(pitch), np.sin(pitch)\n",
    "    cosc, sinc = np.cos(roll), np.sin(roll)\n",
    "    \n",
    "    Axx = cosa*cosb\n",
    "    Axy = cosa*sinb*sinc - sina*cosc\n",
    "    Axz = cosa*sinb*cosc + sina*sinc\n",
    "\n",
    "    Ayx = sina*cosb\n",
    "    Ayy = sina*sinb*sinc + cosa*cosc\n",
    "    Ayz = sina*sinb*cosc - cosa*sinc\n",
    "    \n",
    "    Azx = -sinb\n",
    "    Azy = cosb*sinc\n",
    "    Azz = cosb*cosc\n",
    "    \n",
    "    X = Axx*p[0] + Axy*p[1] + Axz*p[2]\n",
    "    Y = Ayx*p[0] + Ayy*p[1] + Ayz*p[2]\n",
    "    Z = Azx*p[0] + Azy*p[1] + Azz*p[2]\n",
    "    \n",
    "    return X, Y, Z"
   ]
  },
  {
   "cell_type": "code",
   "execution_count": 3,
   "id": "e12774b1",
   "metadata": {},
   "outputs": [
    {
     "data": {
      "text/plain": [
       "<matplotlib.image.AxesImage at 0x7fb9052be410>"
      ]
     },
     "execution_count": 3,
     "metadata": {},
     "output_type": "execute_result"
    },
    {
     "data": {
      "image/png": "[encoded data removed]",
      "text/plain": [
       "<Figure size 432x288 with 1 Axes>"
      ]
     },
     "metadata": {
      "needs_background": "light"
     },
     "output_type": "display_data"
    }
   ],
   "source": [
    "img = np.empty((1000, 1000, 3), dtype=np.float32)\n",
    "img[:,:,:] = 0.\n",
    "\n",
    "c = (500, 500)\n",
    "\n",
    "dl = np.arange(0, img.shape[0], 1)\n",
    "x, y = np.meshgrid(dl, dl)\n",
    "r = np.sqrt((x-c[0])**2 + (y-c[1])**2)\n",
    "\n",
    "m = (r < 400.) & (r > 100.)\n",
    "img[m,:] = (1., 0., 0.)\n",
    "plt.imshow(img)"
   ]
  },
  {
   "cell_type": "code",
   "execution_count": 4,
   "id": "7d57580a",
   "metadata": {},
   "outputs": [
    {
     "ename": "AttributeError",
     "evalue": "'NoneType' object has no attribute 'shape'",
     "output_type": "error",
     "traceback": [
      "\u001b[0;31m---------------------------------------------------------------------------\u001b[0m",
      "\u001b[0;31mAttributeError\u001b[0m                            Traceback (most recent call last)",
      "\u001b[0;32m/tmp/ipykernel_8425/500294164.py\u001b[0m in \u001b[0;36m<module>\u001b[0;34m\u001b[0m\n\u001b[1;32m      4\u001b[0m \u001b[0;31m# okraje obrazku\u001b[0m\u001b[0;34m\u001b[0m\u001b[0;34m\u001b[0m\u001b[0;34m\u001b[0m\u001b[0m\n\u001b[1;32m      5\u001b[0m \u001b[0ma\u001b[0m \u001b[0;34m=\u001b[0m \u001b[0;34m(\u001b[0m\u001b[0;36m0\u001b[0m\u001b[0;34m,\u001b[0m \u001b[0;36m0\u001b[0m\u001b[0;34m,\u001b[0m \u001b[0;36m0\u001b[0m\u001b[0;34m)\u001b[0m\u001b[0;34m\u001b[0m\u001b[0;34m\u001b[0m\u001b[0m\n\u001b[0;32m----> 6\u001b[0;31m \u001b[0mb\u001b[0m \u001b[0;34m=\u001b[0m \u001b[0;34m(\u001b[0m\u001b[0;36m0\u001b[0m\u001b[0;34m,\u001b[0m \u001b[0mimg\u001b[0m\u001b[0;34m.\u001b[0m\u001b[0mshape\u001b[0m\u001b[0;34m[\u001b[0m\u001b[0;36m1\u001b[0m\u001b[0;34m]\u001b[0m\u001b[0;34m,\u001b[0m \u001b[0;36m0\u001b[0m\u001b[0;34m)\u001b[0m\u001b[0;34m\u001b[0m\u001b[0;34m\u001b[0m\u001b[0m\n\u001b[0m\u001b[1;32m      7\u001b[0m \u001b[0mc\u001b[0m \u001b[0;34m=\u001b[0m \u001b[0;34m(\u001b[0m\u001b[0mimg\u001b[0m\u001b[0;34m.\u001b[0m\u001b[0mshape\u001b[0m\u001b[0;34m[\u001b[0m\u001b[0;36m0\u001b[0m\u001b[0;34m]\u001b[0m\u001b[0;34m,\u001b[0m \u001b[0;36m0\u001b[0m\u001b[0;34m,\u001b[0m \u001b[0;36m0\u001b[0m\u001b[0;34m)\u001b[0m\u001b[0;34m\u001b[0m\u001b[0;34m\u001b[0m\u001b[0m\n\u001b[1;32m      8\u001b[0m \u001b[0md\u001b[0m \u001b[0;34m=\u001b[0m \u001b[0;34m(\u001b[0m\u001b[0mimg\u001b[0m\u001b[0;34m.\u001b[0m\u001b[0mshape\u001b[0m\u001b[0;34m[\u001b[0m\u001b[0;36m0\u001b[0m\u001b[0;34m]\u001b[0m\u001b[0;34m,\u001b[0m \u001b[0mimg\u001b[0m\u001b[0;34m.\u001b[0m\u001b[0mshape\u001b[0m\u001b[0;34m[\u001b[0m\u001b[0;36m1\u001b[0m\u001b[0;34m]\u001b[0m\u001b[0;34m,\u001b[0m \u001b[0;36m0\u001b[0m\u001b[0;34m)\u001b[0m\u001b[0;34m\u001b[0m\u001b[0;34m\u001b[0m\u001b[0m\n",
      "\u001b[0;31mAttributeError\u001b[0m: 'NoneType' object has no attribute 'shape'"
     ]
    }
   ],
   "source": [
    "img = cv2.imread(\"/home/preqsis/Plocha/sim/logos/frame_008000.png\")\n",
    "\n",
    "# input points\n",
    "# okraje obrazku\n",
    "a = (0, 0, 0)\n",
    "b = (0, img.shape[1], 0)\n",
    "c = (img.shape[0], 0, 0)\n",
    "d = (img.shape[0], img.shape[1], 0)\n",
    "input_pts = np.float32([a[:2], b[:2], c[:2], d[:2]])\n",
    "\n",
    "# output points\n",
    "pitch, roll, yaw = 145., -45., 0.\n",
    "A = rotate(a, pitch, roll, yaw)\n",
    "B = rotate(b, pitch, roll, yaw)\n",
    "C = rotate(c, pitch, roll, yaw)\n",
    "D = rotate(d, pitch, roll, yaw)\n",
    "output_pts = np.float32([A[:2], B[:2], C[:2], D[:2]])\n",
    "\n",
    "# translace\n",
    "# aby to neutikalo mimo obrazek\n",
    "tns = np.array((np.min(output_pts[:,0]), np.min(output_pts[:,1])))\n",
    "output_pts[:] -= tns\n",
    "\n",
    "# velikost vysledneho obrazku\n",
    "# aby se do nej rotovany vesel\n",
    "h = np.max(output_pts[:,1]) - np.min(output_pts[:,1])\n",
    "w = np.max(output_pts[:,0]) - np.min(output_pts[:,0])\n",
    "\n",
    "# warp perspektivy\n",
    "M = cv2.getPerspectiveTransform(input_pts,output_pts)\n",
    "out = cv2.warpPerspective(img, M, (w, h), cv2.INTER_LINEAR, cv2.BORDER_CONSTANT,  1)\n",
    "\n",
    "# zapis vysledku\n",
    "cv2.imwrite(\"/home/preqsis/Plocha/test.png\", out)"
   ]
  }
 ],
 "metadata": {
  "kernelspec": {
   "display_name": "Python_3.7.11",
   "language": "python",
   "name": "python_3.7.11"
  },
  "language_info": {
   "codemirror_mode": {
    "name": "ipython",
    "version": 3
   },
   "file_extension": ".py",
   "mimetype": "text/x-python",
   "name": "python",
   "nbconvert_exporter": "python",
   "pygments_lexer": "ipython3",
   "version": "3.7.11"
  }
 },
 "nbformat": 4,
 "nbformat_minor": 5
}
